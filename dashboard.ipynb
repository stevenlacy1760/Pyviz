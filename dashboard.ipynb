{
 "cells": [
  {
   "cell_type": "markdown",
   "metadata": {},
   "source": [
    "# San Francisco Rental Prices Dashboard\n",
    "\n",
    "In this notebook, you will compile the visualizations from the previous analysis into functions that can be used for a Panel dashboard."
   ]
  },
  {
   "cell_type": "code",
   "execution_count": 52,
   "metadata": {},
   "outputs": [],
   "source": [
    "# imports\n",
    "import panel as pn\n",
    "pn.extension('plotly')\n",
    "import plotly.express as px\n",
    "import pandas as pd\n",
    "import hvplot.pandas\n",
    "import matplotlib.pyplot as plt\n",
    "import os\n",
    "from pathlib import Path\n",
    "from dotenv import load_dotenv"
   ]
  },
  {
   "cell_type": "code",
   "execution_count": 53,
   "metadata": {},
   "outputs": [],
   "source": [
    "# Read the Mapbox API key\n",
    "load_dotenv()\n",
    "map_box_api = os.getenv(\"mapbox\")\n",
    "px.set_mapbox_access_token(map_box_api)"
   ]
  },
  {
   "cell_type": "markdown",
   "metadata": {},
   "source": [
    "# Import Data"
   ]
  },
  {
   "cell_type": "code",
   "execution_count": 54,
   "metadata": {},
   "outputs": [],
   "source": [
    "# Import the necessary CSVs to Pandas DataFrames\n",
    "# YOUR CODE HERE!\n",
    "file_path = Path(\"Data/sfo_neighborhoods_census_data.csv\")\n",
    "sfo_data = pd.read_csv(file_path, index_col=\"year\")\n",
    "\n",
    "nh_path = Path('Data/neighborhoods_coordinates.csv')\n",
    "nh_df = pd.read_csv(nh_path)\n"
   ]
  },
  {
   "cell_type": "code",
   "execution_count": 55,
   "metadata": {},
   "outputs": [],
   "source": [
    "# Housing Units per Year\n",
    "# Rental Analysis code\n",
    "grouped_df = sfo_data['housing_units']\n",
    "housing_frame = grouped_df.to_frame()\n",
    "units_avg_df = grouped_df.groupby(by = 'year').mean()\n",
    "units_by_year_df = units_avg_df.reset_index()\n",
    "\n",
    "# Average Gross Rent and Average Sales Prices\n",
    "grouped_df_2 = sfo_data[['sale_price_sqr_foot','gross_rent']]\n",
    "sales_avg_df = grouped_df_2.groupby(by = 'year').mean()\n",
    "sales_rent_df = sales_avg_df.reset_index()\n",
    "\n",
    "# Average Price by Neighborhood\n",
    "sales_prices = sfo_data.groupby(by = ['year','neighborhood']).mean()\n",
    "sales_prices.drop(['housing_units','gross_rent'], axis = 1, inplace = True)\n",
    "\n",
    "# Most Expensive Neighborhoods\n",
    "hood_mean_df = sfo_data.groupby(by = 'neighborhood').mean()\n",
    "sorted_hood_df = hood_mean_df.sort_values(by = 'sale_price_sqr_foot', ascending = False)\n",
    "high_price_slice = sorted_hood_df[0:9]\n",
    "high_price_df = high_price_slice.reset_index()\n",
    "\n",
    "# Parallel Categories\n",
    "high_price_df_reset = high_price_df.reset_index()\n",
    "\n",
    "# Neighborhood Map Data\n",
    "neighborhood_df = sorted_hood_df.reset_index()\n",
    "neighborhood_df.sort_values(by = 'neighborhood', ascending = True, inplace=True)\n",
    "neighborhood_df.reset_index(inplace=True)\n",
    "neighborhood_df.drop(['index'], axis=1, inplace=True)\n",
    "concat_df = pd.concat([nh_df,neighborhood_df], axis = 'columns', join = 'outer')\n",
    "concat_df.drop(['neighborhood'], axis=1, inplace = True)\n",
    "\n",
    "grouped_df_2 = sfo_data[['sale_price_sqr_foot','gross_rent']]\n",
    "sales_avg_df = grouped_df_2.groupby(by = 'year').mean()\n",
    "sales_rent_df = sales_avg_df.reset_index()"
   ]
  },
  {
   "cell_type": "markdown",
   "metadata": {},
   "source": [
    "- - -"
   ]
  },
  {
   "cell_type": "markdown",
   "metadata": {},
   "source": [
    "## Panel Visualizations\n",
    "\n",
    "In this section, you will copy the code for each plot type from your analysis notebook and place it into separate functions that Panel can use to create panes for the dashboard. \n",
    "\n",
    "These functions will convert the plot object to a Panel pane.\n",
    "\n",
    "Be sure to include any DataFrame transformation/manipulation code required along with the plotting code.\n",
    "\n",
    "Return a Panel pane object from each function that can be used to build the dashboard.\n",
    "\n",
    "Note: Remove any `.show()` lines from the code. We want to return the plots instead of showing them. The Panel dashboard will then display the plots."
   ]
  },
  {
   "cell_type": "code",
   "execution_count": 56,
   "metadata": {},
   "outputs": [],
   "source": [
    "# Define Panel Visualization Functions\n",
    "def housing_units_per_year():\n",
    "    \"\"\"Housing Units Per Year.\"\"\"\n",
    "    \n",
    "    # YOUR CODE HERE!\n",
    "    housing_plot = px.bar(\n",
    "        units_by_year_df,\n",
    "        x = 'year',\n",
    "        y = 'housing_units',\n",
    "        title = 'Housing Units Per Year'\n",
    "    )\n",
    "    \n",
    "\n",
    "\n",
    "def average_gross_rent():\n",
    "    \"\"\"Average Gross Rent in San Francisco Per Year.\"\"\"\n",
    "    \n",
    "    # YOUR CODE HERE!\n",
    "    rent_plot = px.line(\n",
    "        sales_rent_df,\n",
    "        x = 'year',\n",
    "        y = 'gross_rent', \n",
    "        title = 'Average Gross Rent in San Francisco Per Year'\n",
    "    )\n",
    "\n",
    "\n",
    "\n",
    "def average_sales_price():\n",
    "    \"\"\"Average Sales Price Per Year.\"\"\"\n",
    "    \n",
    "    # YOUR CODE HERE!\n",
    "    sales_plot = px.line(\n",
    "        sales_rent_df,\n",
    "        x = 'year',\n",
    "        y = 'sale_price_sqr_foot',\n",
    "        title = 'Average Sales Price Per Year'\n",
    "    )\n",
    "\n",
    "    return sales_plot\n",
    "\n",
    "\n",
    "\n",
    "def average_price_by_neighborhood():\n",
    "    \"\"\"Average Prices by Neighborhood.\"\"\"\n",
    "    \n",
    "    # YOUR CODE HERE!\n",
    "    neighborhood_plot = sales_prices.hvplot(\n",
    "        x = 'year', \n",
    "        y = 'sale_price_sqr_foot', \n",
    "        groupby = 'neighborhood',\n",
    "        title = 'Average Prices by Neighborhood'\n",
    "    )\n",
    "    \n",
    "    return neighborhood_plot\n",
    "\n",
    "\n",
    "\n",
    "def top_most_expensive_neighborhoods():\n",
    "    \"\"\"Top 10 Most Expensive Neighborhoods.\"\"\"\n",
    "\n",
    "    # YOUR CODE HERE!\n",
    "    expensive_plot = px.bar(\n",
    "        high_price_df,\n",
    "        x = 'neighborhood',\n",
    "        y = 'sale_price_sqr_foot',\n",
    "        title = 'Top 10 Most Expensive Neighborhoods'\n",
    "    )\n",
    "\n",
    "    return expensive_plot\n",
    "\n",
    "\n",
    "def most_expensive_neighborhoods_rent_sales():\n",
    "    \"\"\"Comparison of Rent and Sales Prices of Most Expensive Neighborhoods.\"\"\"   \n",
    "    \n",
    "    # YOUR CODE HERE!\n",
    "    expensive_rent_sale_plot = high_price_df.hvplot.bar(\n",
    "                                                        x='year',\n",
    "                                                        xlabel='neighborhood',\n",
    "                                                        y=('gross_rent','sale_price_sqr_foot'),\n",
    "                                                        ylabel='Number of Housing Units',\n",
    "                                                        groupby='neighborhood',\n",
    "                                                        rot=90,\n",
    "                                                        title=('Top 10 Expensive Neighborhoods in SFO'))\n",
    "    return expensive_rent_sale_plot\n",
    "\n",
    "    \n",
    "def parallel_coordinates():\n",
    "    \"\"\"Parallel Coordinates Plot.\"\"\"\n",
    "\n",
    "    # YOUR CODE HERE!\n",
    "    p1_plot = px.parallel_coordinates(\n",
    "        high_price_df, \n",
    "        color = 'sale_price_sqr_foot',\n",
    "        title = 'Parallel Coordinates Plot'\n",
    "    )\n",
    "    \n",
    "    return p1_plot\n",
    "    \n",
    "\n",
    "\n",
    "\n",
    "def parallel_categories():\n",
    "    \"\"\"Parallel Categories Plot.\"\"\"\n",
    "    \n",
    "    # YOUR CODE HERE!\n",
    "    p2_plot = px.parallel_categories(\n",
    "        high_price_df_reset,\n",
    "        color = 'sale_price_sqr_foot',\n",
    "        title = 'Parallel Categories Plot'\n",
    "    )\n",
    "    \n",
    "    return p2_plot\n",
    "\n",
    "\n",
    "\n",
    "def neighborhood_map():\n",
    "    \"\"\"Neighborhood Map.\"\"\"\n",
    "\n",
    "    # YOUR CODE HERE!\n",
    "    map = px.scatter_mapbox(\n",
    "                            concat_df,\n",
    "                            lat='Lat',\n",
    "                            lon='Lon',\n",
    "                            size='sale_price_sqr_foot',\n",
    "                            color='gross_rent',\n",
    "                            zoom=10)\n",
    "    pane_map = pn.pane.Plotly(map)\n",
    "\n",
    "    return pane_map\n",
    "\n",
    "\n",
    "def sunburst():\n",
    "    \"\"\"Sunburst Plot.\"\"\"\n",
    "    \n",
    "    # YOUR CODE HERE!\n",
    "    sunburst_plot = px.sunburst(most_expensive_neighborhoods_rent_sales,\n",
    "                                path=['year', 'neighborhood'],\n",
    "                                color='gross_rent',\n",
    "                                color_continuous_scale='blues',\n",
    "                                height=700,\n",
    "                                width=700)\n",
    "\n",
    "    return sunburst_plot\n"
   ]
  },
  {
   "cell_type": "markdown",
   "metadata": {},
   "source": [
    "## Panel Dashboard\n",
    "\n",
    "In this section, you will combine all of the plots into a single dashboard view using Panel. Be creative with your dashboard design!"
   ]
  },
  {
   "cell_type": "code",
   "execution_count": 57,
   "metadata": {},
   "outputs": [],
   "source": [
    "# Create a Title for the Dashboard\n",
    "# YOUR CODE HERE!\n",
    "title = pn.Column('Real Estate Analysis for San Francisco 2010-2016')\n",
    "\n",
    "# Create a tab layout for the dashboard\n",
    "# YOUR CODE HERE!\n",
    "first_column = pn.Column(\n",
    "    \"## Static Plots\", \n",
    "    housing_units_per_year(),\n",
    "    average_gross_rent(),\n",
    "    average_sales_price(),\n",
    "    top_most_expensive_neighborhoods()\n",
    "    \n",
    ")\n",
    "\n",
    "second_column = pn.Column(\n",
    "    \"## Interactive Plots\",\n",
    "    average_price_by_neighborhood(),\n",
    "    parallel_coordinates(),\n",
    "    parallel_categories(),\n",
    "    neighborhood_map()\n",
    ")\n",
    "\n",
    "\n",
    "# Create the dashboard\n",
    "# YOUR CODE HERE!\n",
    "dashboard = pn.Tabs(\n",
    "    (\"Static Plots\", first_column), (\"Interactive Plots\", second_column)\n",
    ")\n"
   ]
  },
  {
   "cell_type": "markdown",
   "metadata": {},
   "source": [
    "## Serve the Panel Dashboard"
   ]
  },
  {
   "cell_type": "code",
   "execution_count": 58,
   "metadata": {},
   "outputs": [
    {
     "data": {
      "application/vnd.jupyter.widget-view+json": {
       "model_id": "cc4f4eeeacb947c0bdcea90fd4d4d254",
       "version_major": 2,
       "version_minor": 0
      },
      "text/plain": [
       "BokehModel(combine_events=True, render_bundle={'docs_json': {'70c8d564-adb3-4365-9807-4b784f7b7635': {'defs': …"
      ]
     },
     "metadata": {},
     "output_type": "display_data"
    },
    {
     "data": {
      "text/html": [
       "<div style=\"display: none\"></div>"
      ],
      "text/plain": [
       "Tabs\n",
       "    [0] Column\n",
       "        [0] Markdown(str)\n",
       "        [1] Str(None)\n",
       "        [2] Str(None)\n",
       "        [3] Plotly(Figure)\n",
       "        [4] Plotly(Figure)\n",
       "    [1] Column\n",
       "        [0] Markdown(str)\n",
       "        [1] Row\n",
       "            [0] HoloViews(DynamicMap)\n",
       "            [1] Column\n",
       "                [0] WidgetBox\n",
       "                    [0] Select(margin=(20, 20, 20, 20), name='neighborhood', options=['Alamo Square', ...], value='Alamo Square', width=250)\n",
       "                [1] VSpacer()\n",
       "        [2] Plotly(Figure, visible=False)\n",
       "        [3] Plotly(Figure, visible=False)\n",
       "        [4] Plotly(Figure, visible=False)"
      ]
     },
     "execution_count": 58,
     "metadata": {},
     "output_type": "execute_result"
    }
   ],
   "source": [
    "# Serve the# dashboard\n",
    "# YOUR CODE HERE!\n",
    "dashboard.servable()"
   ]
  },
  {
   "cell_type": "markdown",
   "metadata": {},
   "source": [
    "# Debugging\n",
    "\n",
    "Note: Some of the Plotly express plots may not render in the notebook through the panel functions.\n",
    "\n",
    "However, you can test each plot by uncommenting the following code"
   ]
  },
  {
   "cell_type": "code",
   "execution_count": 59,
   "metadata": {},
   "outputs": [
    {
     "data": {
      "text/plain": [
       "<function __main__.housing_units_per_year()>"
      ]
     },
     "execution_count": 59,
     "metadata": {},
     "output_type": "execute_result"
    }
   ],
   "source": [
    "# housing_units_per_year()\n",
    "housing_units_per_year"
   ]
  },
  {
   "cell_type": "code",
   "execution_count": 60,
   "metadata": {},
   "outputs": [
    {
     "data": {
      "text/plain": [
       "<function __main__.average_gross_rent()>"
      ]
     },
     "execution_count": 60,
     "metadata": {},
     "output_type": "execute_result"
    }
   ],
   "source": [
    "# average_gross_rent()\n",
    "average_gross_rent"
   ]
  },
  {
   "cell_type": "code",
   "execution_count": 61,
   "metadata": {},
   "outputs": [
    {
     "data": {
      "text/plain": [
       "<function __main__.average_sales_price()>"
      ]
     },
     "execution_count": 61,
     "metadata": {},
     "output_type": "execute_result"
    }
   ],
   "source": [
    "# average_sales_price()\n",
    "average_sales_price"
   ]
  },
  {
   "cell_type": "code",
   "execution_count": 62,
   "metadata": {},
   "outputs": [
    {
     "data": {
      "text/plain": [
       "<function __main__.average_price_by_neighborhood()>"
      ]
     },
     "execution_count": 62,
     "metadata": {},
     "output_type": "execute_result"
    }
   ],
   "source": [
    "# average_price_by_neighborhood()\n",
    "average_price_by_neighborhood"
   ]
  },
  {
   "cell_type": "code",
   "execution_count": 63,
   "metadata": {},
   "outputs": [
    {
     "data": {
      "text/plain": [
       "<function __main__.top_most_expensive_neighborhoods()>"
      ]
     },
     "execution_count": 63,
     "metadata": {},
     "output_type": "execute_result"
    }
   ],
   "source": [
    "# top_most_expensive_neighborhoods()\n",
    "top_most_expensive_neighborhoods"
   ]
  },
  {
   "cell_type": "code",
   "execution_count": 64,
   "metadata": {},
   "outputs": [
    {
     "data": {
      "text/plain": [
       "<function __main__.most_expensive_neighborhoods_rent_sales()>"
      ]
     },
     "execution_count": 64,
     "metadata": {},
     "output_type": "execute_result"
    }
   ],
   "source": [
    "# most_expensive_neighborhoods_rent_sales()\n",
    "most_expensive_neighborhoods_rent_sales"
   ]
  },
  {
   "cell_type": "code",
   "execution_count": 65,
   "metadata": {},
   "outputs": [
    {
     "data": {
      "text/plain": [
       "<function __main__.neighborhood_map()>"
      ]
     },
     "execution_count": 65,
     "metadata": {},
     "output_type": "execute_result"
    }
   ],
   "source": [
    "# neighborhood_map().show()\n",
    "neighborhood_map"
   ]
  },
  {
   "cell_type": "code",
   "execution_count": 66,
   "metadata": {},
   "outputs": [
    {
     "data": {
      "text/plain": [
       "<function __main__.parallel_coordinates()>"
      ]
     },
     "execution_count": 66,
     "metadata": {},
     "output_type": "execute_result"
    }
   ],
   "source": [
    "# parallel_categories()\n",
    "parallel_coordinates"
   ]
  },
  {
   "cell_type": "code",
   "execution_count": 67,
   "metadata": {},
   "outputs": [
    {
     "data": {
      "text/plain": [
       "<function __main__.parallel_coordinates()>"
      ]
     },
     "execution_count": 67,
     "metadata": {},
     "output_type": "execute_result"
    }
   ],
   "source": [
    "# parallel_coordinates()\n",
    "parallel_coordinates"
   ]
  },
  {
   "cell_type": "code",
   "execution_count": 68,
   "metadata": {},
   "outputs": [
    {
     "data": {
      "text/plain": [
       "<function __main__.sunburst()>"
      ]
     },
     "execution_count": 68,
     "metadata": {},
     "output_type": "execute_result"
    }
   ],
   "source": [
    "# sunburst()\n",
    "sunburst"
   ]
  },
  {
   "cell_type": "code",
   "execution_count": null,
   "metadata": {},
   "outputs": [],
   "source": []
  }
 ],
 "metadata": {
  "file_extension": ".py",
  "interpreter": {
   "hash": "43f374bd6df4d53e79e5a6502e3f07af29d0c1a2aef94e36c5286ae4ec722325"
  },
  "kernelspec": {
   "display_name": "Python [conda env:pyvizenv25] *",
   "language": "python",
   "name": "python3"
  },
  "language_info": {
   "codemirror_mode": {
    "name": "ipython",
    "version": 3
   },
   "file_extension": ".py",
   "mimetype": "text/x-python",
   "name": "python",
   "nbconvert_exporter": "python",
   "pygments_lexer": "ipython3",
   "version": "3.7.10"
  },
  "mimetype": "text/x-python",
  "name": "python",
  "npconvert_exporter": "python",
  "pygments_lexer": "ipython3",
  "version": 3
 },
 "nbformat": 4,
 "nbformat_minor": 4
}
